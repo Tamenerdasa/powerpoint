{
 "cells": [
  {
   "cell_type": "code",
   "execution_count": 1,
   "metadata": {},
   "outputs": [],
   "source": [
    "import pandas as pd\n",
    "import seaborn as sns\n",
    "import matplotlib.pyplot as plt\n",
    "%matplotlib inline\n",
    "import datetime as dt"
   ]
  },
  {
   "cell_type": "code",
   "execution_count": 2,
   "metadata": {},
   "outputs": [],
   "source": [
    "sns.set_style('whitegrid')"
   ]
  },
  {
   "cell_type": "code",
   "execution_count": 3,
   "metadata": {},
   "outputs": [],
   "source": [
    "border_cross = pd.read_csv('Border_Crossing_Entry_Data-2.csv')"
   ]
  },
  {
   "cell_type": "code",
   "execution_count": 4,
   "metadata": {},
   "outputs": [
    {
     "data": {
      "text/html": [
       "<div>\n",
       "<style scoped>\n",
       "    .dataframe tbody tr th:only-of-type {\n",
       "        vertical-align: middle;\n",
       "    }\n",
       "\n",
       "    .dataframe tbody tr th {\n",
       "        vertical-align: top;\n",
       "    }\n",
       "\n",
       "    .dataframe thead th {\n",
       "        text-align: right;\n",
       "    }\n",
       "</style>\n",
       "<table border=\"1\" class=\"dataframe\">\n",
       "  <thead>\n",
       "    <tr style=\"text-align: right;\">\n",
       "      <th></th>\n",
       "      <th>Port Name</th>\n",
       "      <th>State</th>\n",
       "      <th>Port Code</th>\n",
       "      <th>Border</th>\n",
       "      <th>Date</th>\n",
       "      <th>Measure</th>\n",
       "      <th>Value</th>\n",
       "    </tr>\n",
       "  </thead>\n",
       "  <tbody>\n",
       "    <tr>\n",
       "      <th>0</th>\n",
       "      <td>Warroad</td>\n",
       "      <td>Minnesota</td>\n",
       "      <td>3423</td>\n",
       "      <td>US-Canada Border</td>\n",
       "      <td>06/01/2019 12:00:00 AM</td>\n",
       "      <td>Truck Containers Full</td>\n",
       "      <td>133</td>\n",
       "    </tr>\n",
       "    <tr>\n",
       "      <th>1</th>\n",
       "      <td>Warroad</td>\n",
       "      <td>Minnesota</td>\n",
       "      <td>3423</td>\n",
       "      <td>US-Canada Border</td>\n",
       "      <td>06/01/2019 12:00:00 AM</td>\n",
       "      <td>Truck Containers Empty</td>\n",
       "      <td>298</td>\n",
       "    </tr>\n",
       "    <tr>\n",
       "      <th>2</th>\n",
       "      <td>Warroad</td>\n",
       "      <td>Minnesota</td>\n",
       "      <td>3423</td>\n",
       "      <td>US-Canada Border</td>\n",
       "      <td>06/01/2019 12:00:00 AM</td>\n",
       "      <td>Personal Vehicles</td>\n",
       "      <td>10383</td>\n",
       "    </tr>\n",
       "    <tr>\n",
       "      <th>3</th>\n",
       "      <td>Warroad</td>\n",
       "      <td>Minnesota</td>\n",
       "      <td>3423</td>\n",
       "      <td>US-Canada Border</td>\n",
       "      <td>06/01/2019 12:00:00 AM</td>\n",
       "      <td>Personal Vehicle Passengers</td>\n",
       "      <td>19459</td>\n",
       "    </tr>\n",
       "    <tr>\n",
       "      <th>4</th>\n",
       "      <td>Warroad</td>\n",
       "      <td>Minnesota</td>\n",
       "      <td>3423</td>\n",
       "      <td>US-Canada Border</td>\n",
       "      <td>06/01/2019 12:00:00 AM</td>\n",
       "      <td>Pedestrians</td>\n",
       "      <td>2</td>\n",
       "    </tr>\n",
       "  </tbody>\n",
       "</table>\n",
       "</div>"
      ],
      "text/plain": [
       "  Port Name      State  Port Code            Border                    Date  \\\n",
       "0   Warroad  Minnesota       3423  US-Canada Border  06/01/2019 12:00:00 AM   \n",
       "1   Warroad  Minnesota       3423  US-Canada Border  06/01/2019 12:00:00 AM   \n",
       "2   Warroad  Minnesota       3423  US-Canada Border  06/01/2019 12:00:00 AM   \n",
       "3   Warroad  Minnesota       3423  US-Canada Border  06/01/2019 12:00:00 AM   \n",
       "4   Warroad  Minnesota       3423  US-Canada Border  06/01/2019 12:00:00 AM   \n",
       "\n",
       "                       Measure  Value  \n",
       "0        Truck Containers Full    133  \n",
       "1       Truck Containers Empty    298  \n",
       "2            Personal Vehicles  10383  \n",
       "3  Personal Vehicle Passengers  19459  \n",
       "4                  Pedestrians      2  "
      ]
     },
     "execution_count": 4,
     "metadata": {},
     "output_type": "execute_result"
    }
   ],
   "source": [
    "border_cross.head()"
   ]
  },
  {
   "cell_type": "code",
   "execution_count": 5,
   "metadata": {},
   "outputs": [],
   "source": [
    "border_cross['Date'] = pd.to_datetime(border_cross['Date'])"
   ]
  },
  {
   "cell_type": "code",
   "execution_count": 115,
   "metadata": {},
   "outputs": [
    {
     "data": {
      "text/html": [
       "<div>\n",
       "<style scoped>\n",
       "    .dataframe tbody tr th:only-of-type {\n",
       "        vertical-align: middle;\n",
       "    }\n",
       "\n",
       "    .dataframe tbody tr th {\n",
       "        vertical-align: top;\n",
       "    }\n",
       "\n",
       "    .dataframe thead th {\n",
       "        text-align: right;\n",
       "    }\n",
       "</style>\n",
       "<table border=\"1\" class=\"dataframe\">\n",
       "  <thead>\n",
       "    <tr style=\"text-align: right;\">\n",
       "      <th></th>\n",
       "      <th>Port Name</th>\n",
       "      <th>State</th>\n",
       "      <th>Port Code</th>\n",
       "      <th>Border</th>\n",
       "      <th>Date</th>\n",
       "      <th>Measure</th>\n",
       "      <th>Value</th>\n",
       "    </tr>\n",
       "  </thead>\n",
       "  <tbody>\n",
       "    <tr>\n",
       "      <th>0</th>\n",
       "      <td>Warroad</td>\n",
       "      <td>Minnesota</td>\n",
       "      <td>3423</td>\n",
       "      <td>US-Canada Border</td>\n",
       "      <td>2019-06-01</td>\n",
       "      <td>Truck Containers Full</td>\n",
       "      <td>133</td>\n",
       "    </tr>\n",
       "    <tr>\n",
       "      <th>1</th>\n",
       "      <td>Warroad</td>\n",
       "      <td>Minnesota</td>\n",
       "      <td>3423</td>\n",
       "      <td>US-Canada Border</td>\n",
       "      <td>2019-06-01</td>\n",
       "      <td>Truck Containers Empty</td>\n",
       "      <td>298</td>\n",
       "    </tr>\n",
       "    <tr>\n",
       "      <th>2</th>\n",
       "      <td>Warroad</td>\n",
       "      <td>Minnesota</td>\n",
       "      <td>3423</td>\n",
       "      <td>US-Canada Border</td>\n",
       "      <td>2019-06-01</td>\n",
       "      <td>Personal Vehicles</td>\n",
       "      <td>10383</td>\n",
       "    </tr>\n",
       "    <tr>\n",
       "      <th>3</th>\n",
       "      <td>Warroad</td>\n",
       "      <td>Minnesota</td>\n",
       "      <td>3423</td>\n",
       "      <td>US-Canada Border</td>\n",
       "      <td>2019-06-01</td>\n",
       "      <td>Personal Vehicle Passengers</td>\n",
       "      <td>19459</td>\n",
       "    </tr>\n",
       "    <tr>\n",
       "      <th>4</th>\n",
       "      <td>Warroad</td>\n",
       "      <td>Minnesota</td>\n",
       "      <td>3423</td>\n",
       "      <td>US-Canada Border</td>\n",
       "      <td>2019-06-01</td>\n",
       "      <td>Pedestrians</td>\n",
       "      <td>2</td>\n",
       "    </tr>\n",
       "    <tr>\n",
       "      <th>5</th>\n",
       "      <td>Warroad</td>\n",
       "      <td>Minnesota</td>\n",
       "      <td>3423</td>\n",
       "      <td>US-Canada Border</td>\n",
       "      <td>2019-06-01</td>\n",
       "      <td>Buses</td>\n",
       "      <td>3</td>\n",
       "    </tr>\n",
       "    <tr>\n",
       "      <th>6</th>\n",
       "      <td>Warroad</td>\n",
       "      <td>Minnesota</td>\n",
       "      <td>3423</td>\n",
       "      <td>US-Canada Border</td>\n",
       "      <td>2019-06-01</td>\n",
       "      <td>Bus Passengers</td>\n",
       "      <td>63</td>\n",
       "    </tr>\n",
       "    <tr>\n",
       "      <th>7</th>\n",
       "      <td>Roseau</td>\n",
       "      <td>Minnesota</td>\n",
       "      <td>3426</td>\n",
       "      <td>US-Canada Border</td>\n",
       "      <td>2019-06-01</td>\n",
       "      <td>Trucks</td>\n",
       "      <td>290</td>\n",
       "    </tr>\n",
       "    <tr>\n",
       "      <th>8</th>\n",
       "      <td>Roseau</td>\n",
       "      <td>Minnesota</td>\n",
       "      <td>3426</td>\n",
       "      <td>US-Canada Border</td>\n",
       "      <td>2019-06-01</td>\n",
       "      <td>Truck Containers Full</td>\n",
       "      <td>110</td>\n",
       "    </tr>\n",
       "    <tr>\n",
       "      <th>9</th>\n",
       "      <td>Roseau</td>\n",
       "      <td>Minnesota</td>\n",
       "      <td>3426</td>\n",
       "      <td>US-Canada Border</td>\n",
       "      <td>2019-06-01</td>\n",
       "      <td>Truck Containers Empty</td>\n",
       "      <td>182</td>\n",
       "    </tr>\n",
       "    <tr>\n",
       "      <th>10</th>\n",
       "      <td>Roseau</td>\n",
       "      <td>Minnesota</td>\n",
       "      <td>3426</td>\n",
       "      <td>US-Canada Border</td>\n",
       "      <td>2019-06-01</td>\n",
       "      <td>Personal Vehicles</td>\n",
       "      <td>3964</td>\n",
       "    </tr>\n",
       "    <tr>\n",
       "      <th>11</th>\n",
       "      <td>Roseau</td>\n",
       "      <td>Minnesota</td>\n",
       "      <td>3426</td>\n",
       "      <td>US-Canada Border</td>\n",
       "      <td>2019-06-01</td>\n",
       "      <td>Personal Vehicle Passengers</td>\n",
       "      <td>7385</td>\n",
       "    </tr>\n",
       "    <tr>\n",
       "      <th>12</th>\n",
       "      <td>Roseau</td>\n",
       "      <td>Minnesota</td>\n",
       "      <td>3426</td>\n",
       "      <td>US-Canada Border</td>\n",
       "      <td>2019-06-01</td>\n",
       "      <td>Buses</td>\n",
       "      <td>4</td>\n",
       "    </tr>\n",
       "    <tr>\n",
       "      <th>13</th>\n",
       "      <td>Roseau</td>\n",
       "      <td>Minnesota</td>\n",
       "      <td>3426</td>\n",
       "      <td>US-Canada Border</td>\n",
       "      <td>2019-06-01</td>\n",
       "      <td>Bus Passengers</td>\n",
       "      <td>118</td>\n",
       "    </tr>\n",
       "    <tr>\n",
       "      <th>14</th>\n",
       "      <td>Detroit</td>\n",
       "      <td>Michigan</td>\n",
       "      <td>3801</td>\n",
       "      <td>US-Canada Border</td>\n",
       "      <td>2019-06-01</td>\n",
       "      <td>Personal Vehicle Passengers</td>\n",
       "      <td>599521</td>\n",
       "    </tr>\n",
       "    <tr>\n",
       "      <th>15</th>\n",
       "      <td>Detroit</td>\n",
       "      <td>Michigan</td>\n",
       "      <td>3801</td>\n",
       "      <td>US-Canada Border</td>\n",
       "      <td>2019-06-01</td>\n",
       "      <td>Buses</td>\n",
       "      <td>615</td>\n",
       "    </tr>\n",
       "    <tr>\n",
       "      <th>16</th>\n",
       "      <td>Detroit</td>\n",
       "      <td>Michigan</td>\n",
       "      <td>3801</td>\n",
       "      <td>US-Canada Border</td>\n",
       "      <td>2019-06-01</td>\n",
       "      <td>Bus Passengers</td>\n",
       "      <td>6274</td>\n",
       "    </tr>\n",
       "    <tr>\n",
       "      <th>20</th>\n",
       "      <td>Anacortes</td>\n",
       "      <td>Washington</td>\n",
       "      <td>3010</td>\n",
       "      <td>US-Canada Border</td>\n",
       "      <td>2019-06-01</td>\n",
       "      <td>Personal Vehicles</td>\n",
       "      <td>3438</td>\n",
       "    </tr>\n",
       "    <tr>\n",
       "      <th>21</th>\n",
       "      <td>Anacortes</td>\n",
       "      <td>Washington</td>\n",
       "      <td>3010</td>\n",
       "      <td>US-Canada Border</td>\n",
       "      <td>2019-06-01</td>\n",
       "      <td>Personal Vehicle Passengers</td>\n",
       "      <td>8348</td>\n",
       "    </tr>\n",
       "    <tr>\n",
       "      <th>22</th>\n",
       "      <td>Sumas</td>\n",
       "      <td>Washington</td>\n",
       "      <td>3009</td>\n",
       "      <td>US-Canada Border</td>\n",
       "      <td>2019-06-01</td>\n",
       "      <td>Trucks</td>\n",
       "      <td>13337</td>\n",
       "    </tr>\n",
       "  </tbody>\n",
       "</table>\n",
       "</div>"
      ],
      "text/plain": [
       "    Port Name       State  Port Code            Border       Date  \\\n",
       "0     Warroad   Minnesota       3423  US-Canada Border 2019-06-01   \n",
       "1     Warroad   Minnesota       3423  US-Canada Border 2019-06-01   \n",
       "2     Warroad   Minnesota       3423  US-Canada Border 2019-06-01   \n",
       "3     Warroad   Minnesota       3423  US-Canada Border 2019-06-01   \n",
       "4     Warroad   Minnesota       3423  US-Canada Border 2019-06-01   \n",
       "5     Warroad   Minnesota       3423  US-Canada Border 2019-06-01   \n",
       "6     Warroad   Minnesota       3423  US-Canada Border 2019-06-01   \n",
       "7      Roseau   Minnesota       3426  US-Canada Border 2019-06-01   \n",
       "8      Roseau   Minnesota       3426  US-Canada Border 2019-06-01   \n",
       "9      Roseau   Minnesota       3426  US-Canada Border 2019-06-01   \n",
       "10     Roseau   Minnesota       3426  US-Canada Border 2019-06-01   \n",
       "11     Roseau   Minnesota       3426  US-Canada Border 2019-06-01   \n",
       "12     Roseau   Minnesota       3426  US-Canada Border 2019-06-01   \n",
       "13     Roseau   Minnesota       3426  US-Canada Border 2019-06-01   \n",
       "14    Detroit    Michigan       3801  US-Canada Border 2019-06-01   \n",
       "15    Detroit    Michigan       3801  US-Canada Border 2019-06-01   \n",
       "16    Detroit    Michigan       3801  US-Canada Border 2019-06-01   \n",
       "20  Anacortes  Washington       3010  US-Canada Border 2019-06-01   \n",
       "21  Anacortes  Washington       3010  US-Canada Border 2019-06-01   \n",
       "22      Sumas  Washington       3009  US-Canada Border 2019-06-01   \n",
       "\n",
       "                        Measure   Value  \n",
       "0         Truck Containers Full     133  \n",
       "1        Truck Containers Empty     298  \n",
       "2             Personal Vehicles   10383  \n",
       "3   Personal Vehicle Passengers   19459  \n",
       "4                   Pedestrians       2  \n",
       "5                         Buses       3  \n",
       "6                Bus Passengers      63  \n",
       "7                        Trucks     290  \n",
       "8         Truck Containers Full     110  \n",
       "9        Truck Containers Empty     182  \n",
       "10            Personal Vehicles    3964  \n",
       "11  Personal Vehicle Passengers    7385  \n",
       "12                        Buses       4  \n",
       "13               Bus Passengers     118  \n",
       "14  Personal Vehicle Passengers  599521  \n",
       "15                        Buses     615  \n",
       "16               Bus Passengers    6274  \n",
       "20            Personal Vehicles    3438  \n",
       "21  Personal Vehicle Passengers    8348  \n",
       "22                       Trucks   13337  "
      ]
     },
     "execution_count": 115,
     "metadata": {},
     "output_type": "execute_result"
    }
   ],
   "source": [
    "border_cross[border_cross['Border']=='US-Canada Border'].head(20)"
   ]
  },
  {
   "cell_type": "code",
   "execution_count": 13,
   "metadata": {},
   "outputs": [
    {
     "data": {
      "text/html": [
       "<div>\n",
       "<style scoped>\n",
       "    .dataframe tbody tr th:only-of-type {\n",
       "        vertical-align: middle;\n",
       "    }\n",
       "\n",
       "    .dataframe tbody tr th {\n",
       "        vertical-align: top;\n",
       "    }\n",
       "\n",
       "    .dataframe thead th {\n",
       "        text-align: right;\n",
       "    }\n",
       "</style>\n",
       "<table border=\"1\" class=\"dataframe\">\n",
       "  <thead>\n",
       "    <tr style=\"text-align: right;\">\n",
       "      <th></th>\n",
       "      <th>Port Name</th>\n",
       "      <th>State</th>\n",
       "      <th>Port Code</th>\n",
       "      <th>Border</th>\n",
       "      <th>Date</th>\n",
       "      <th>Measure</th>\n",
       "      <th>Value</th>\n",
       "    </tr>\n",
       "  </thead>\n",
       "  <tbody>\n",
       "    <tr>\n",
       "      <th>4798</th>\n",
       "      <td>Roosville</td>\n",
       "      <td>Montana</td>\n",
       "      <td>3318</td>\n",
       "      <td>US-Canada Border</td>\n",
       "      <td>2018-12-01</td>\n",
       "      <td>Buses</td>\n",
       "      <td>1</td>\n",
       "    </tr>\n",
       "    <tr>\n",
       "      <th>4799</th>\n",
       "      <td>Roosville</td>\n",
       "      <td>Montana</td>\n",
       "      <td>3318</td>\n",
       "      <td>US-Canada Border</td>\n",
       "      <td>2018-12-01</td>\n",
       "      <td>Pedestrians</td>\n",
       "      <td>8</td>\n",
       "    </tr>\n",
       "    <tr>\n",
       "      <th>4800</th>\n",
       "      <td>Ferry</td>\n",
       "      <td>Washington</td>\n",
       "      <td>3013</td>\n",
       "      <td>US-Canada Border</td>\n",
       "      <td>2018-12-01</td>\n",
       "      <td>Pedestrians</td>\n",
       "      <td>2</td>\n",
       "    </tr>\n",
       "    <tr>\n",
       "      <th>4801</th>\n",
       "      <td>Massena</td>\n",
       "      <td>New York</td>\n",
       "      <td>704</td>\n",
       "      <td>US-Canada Border</td>\n",
       "      <td>2018-12-01</td>\n",
       "      <td>Trucks</td>\n",
       "      <td>1741</td>\n",
       "    </tr>\n",
       "    <tr>\n",
       "      <th>4802</th>\n",
       "      <td>Van Buren</td>\n",
       "      <td>Maine</td>\n",
       "      <td>108</td>\n",
       "      <td>US-Canada Border</td>\n",
       "      <td>2018-12-01</td>\n",
       "      <td>Rail Containers Empty</td>\n",
       "      <td>259</td>\n",
       "    </tr>\n",
       "  </tbody>\n",
       "</table>\n",
       "</div>"
      ],
      "text/plain": [
       "      Port Name       State  Port Code            Border       Date  \\\n",
       "4798  Roosville     Montana       3318  US-Canada Border 2018-12-01   \n",
       "4799  Roosville     Montana       3318  US-Canada Border 2018-12-01   \n",
       "4800      Ferry  Washington       3013  US-Canada Border 2018-12-01   \n",
       "4801    Massena    New York        704  US-Canada Border 2018-12-01   \n",
       "4802  Van Buren       Maine        108  US-Canada Border 2018-12-01   \n",
       "\n",
       "                    Measure  Value  \n",
       "4798                  Buses      1  \n",
       "4799            Pedestrians      8  \n",
       "4800            Pedestrians      2  \n",
       "4801                 Trucks   1741  \n",
       "4802  Rail Containers Empty    259  "
      ]
     },
     "execution_count": 13,
     "metadata": {},
     "output_type": "execute_result"
    }
   ],
   "source": [
    "border_cross[(border_cross['Border']=='US-Canada Border') & (border_cross['Date'].dt.year==2018)].head()"
   ]
  },
  {
   "cell_type": "code",
   "execution_count": 38,
   "metadata": {},
   "outputs": [
    {
     "data": {
      "text/plain": [
       "<seaborn.axisgrid.JointGrid at 0x1a1899cbe0>"
      ]
     },
     "execution_count": 38,
     "metadata": {},
     "output_type": "execute_result"
    },
    {
     "data": {
      "image/png": "[encoded data removed]",
      "text/plain": [
       "<Figure size 432x432 with 3 Axes>"
      ]
     },
     "metadata": {},
     "output_type": "display_data"
    }
   ],
   "source": [
    "total_cross = []\n",
    "for i in range(2010, 2019):\n",
    "    total_cross.append([i,border_cross[border_cross['Date'].dt.year==i]['Value'].sum()])\n",
    "#print(total_cross)\n",
    "total = pd.DataFrame(total_cross)\n",
    "#print(total)\n",
    "sns.jointplot(x=total[0],y=total[1])"
   ]
  },
  {
   "cell_type": "code",
   "execution_count": 65,
   "metadata": {},
   "outputs": [
    {
     "data": {
      "text/plain": [
       "<seaborn.axisgrid.JointGrid at 0x1a25603c18>"
      ]
     },
     "execution_count": 65,
     "metadata": {},
     "output_type": "execute_result"
    },
    {
     "data": {
      "image/png": "[encoded data removed]",
      "text/plain": [
       "<Figure size 504x504 with 3 Axes>"
      ]
     },
     "metadata": {},
     "output_type": "display_data"
    }
   ],
   "source": [
    "total_cross = []\n",
    "for i in range(2000, 2019):\n",
    "    total_cross.append([i,border_cross[(border_cross['Date'].dt.year==i) & \\\n",
    "                                       ((border_cross['Border']=='US-Canada Border'))]['Value'].sum()])\n",
    "#print(total_cross)\n",
    "total = pd.DataFrame(total_cross)\n",
    "#print(total)\n",
    "plot1 = sns.jointplot(x=total[0],y=total[1], height = 7, ratio = 6, space = 1)\n",
    "plot1.set_axis_labels('Year', 'Traffic flow', fontsize=16)"
   ]
  },
  {
   "cell_type": "code",
   "execution_count": 113,
   "metadata": {},
   "outputs": [
    {
     "data": {
      "text/plain": [
       "<seaborn.axisgrid.JointGrid at 0x1a2e1ddcf8>"
      ]
     },
     "execution_count": 113,
     "metadata": {},
     "output_type": "execute_result"
    },
    {
     "data": {
      "image/png": "[encoded data removed]",
      "text/plain": [
       "<Figure size 432x432 with 3 Axes>"
      ]
     },
     "metadata": {},
     "output_type": "display_data"
    }
   ],
   "source": [
    "total_cross_mex = []\n",
    "for i in range(2000, 2019):\n",
    "    total_cross_mex.append([i,border_cross[(border_cross['Date'].dt.year==i) & \\\n",
    "                                       ((border_cross['Border']=='US-Mexico Border'))]['Value'].sum()])\n",
    "#print(total_cross)\n",
    "total_mex = pd.DataFrame(total_cross_mex)\n",
    "#print(total_mex)\n",
    "plot2 = sns.jointplot(x=total_mex[0],y=total_mex[1], space = 1)\n",
    "plot2.set_axis_labels('Year', 'Traffic flow', fontsize=16)"
   ]
  },
  {
   "cell_type": "code",
   "execution_count": null,
   "metadata": {},
   "outputs": [],
   "source": []
  },
  {
   "cell_type": "code",
   "execution_count": 93,
   "metadata": {},
   "outputs": [],
   "source": [
    "state_list = border_cross['State'].unique()\n",
    "#print(border_cross['Date'].unique())\n",
    "#for k in state_list:\n",
    "state_sum = []\n",
    "for l in range(2011, 2019):\n",
    "    state_sum.append([l,border_cross[(border_cross['State']=='Minnesota') \\\n",
    "                                       & (border_cross['Date'].dt.year==i)]['Value'].sum()])"
   ]
  },
  {
   "cell_type": "code",
   "execution_count": 80,
   "metadata": {},
   "outputs": [
    {
     "data": {
      "text/plain": [
       "4056485"
      ]
     },
     "execution_count": 80,
     "metadata": {},
     "output_type": "execute_result"
    }
   ],
   "source": [
    "border_cross[(border_cross['State']=='Minnesota') & (border_cross['Date'].dt.year==2012)]['Value'].sum()"
   ]
  },
  {
   "cell_type": "code",
   "execution_count": 122,
   "metadata": {},
   "outputs": [
    {
     "data": {
      "image/png": "[encoded data removed]",
      "text/plain": [
       "<Figure size 864x216 with 1 Axes>"
      ]
     },
     "metadata": {},
     "output_type": "display_data"
    }
   ],
   "source": [
    "sns.set(rc={'figure.figsize':(12,3)})\n",
    "g = sns.barplot(x=border_cross['State'],y=border_cross[(border_cross['Border']=='US-Canada Border') & \\\n",
    "                                                       (border_cross['Date'].dt.year==2010)]['Value'])\n",
    "#border_cross[border_cross['Border']=='US-Canada Border']['Value']"
   ]
  },
  {
   "cell_type": "raw",
   "metadata": {},
   "source": [
    "sns.jointplot(x=border_cross['Date'].dt.year,y=border_cross['Value'])"
   ]
  },
  {
   "cell_type": "code",
   "execution_count": 20,
   "metadata": {},
   "outputs": [
    {
     "data": {
      "text/plain": [
       "Text(0.5, 1, 'border_cross.corr()')"
      ]
     },
     "execution_count": 20,
     "metadata": {},
     "output_type": "execute_result"
    },
    {
     "data": {
      "image/png": "[encoded data removed]",
      "text/plain": [
       "<Figure size 432x288 with 2 Axes>"
      ]
     },
     "metadata": {
      "needs_background": "light"
     },
     "output_type": "display_data"
    }
   ],
   "source": [
    "sns.heatmap(border_cross.corr(),cmap='coolwarm')\n",
    "plt.title('border_cross.corr()')"
   ]
  }
 ],
 "metadata": {
  "kernelspec": {
   "display_name": "Python 3",
   "language": "python",
   "name": "python3"
  },
  "language_info": {
   "codemirror_mode": {
    "name": "ipython",
    "version": 3
   },
   "file_extension": ".py",
   "mimetype": "text/x-python",
   "name": "python",
   "nbconvert_exporter": "python",
   "pygments_lexer": "ipython3",
   "version": "3.7.3"
  }
 },
 "nbformat": 4,
 "nbformat_minor": 2
}
